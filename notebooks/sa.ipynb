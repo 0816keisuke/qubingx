{
 "cells": [
  {
   "cell_type": "code",
   "execution_count": 1,
   "metadata": {},
   "outputs": [],
   "source": [
    "%load_ext autoreload\n",
    "%autoreload 2\n",
    "\n",
    "from qubingx.solver.sa import SAParams, SA\n",
    "from qubingx.utils import QubingUtils"
   ]
  },
  {
   "cell_type": "code",
   "execution_count": 2,
   "metadata": {},
   "outputs": [
    {
     "data": {
      "text/plain": [
       "array([[ 0, -5, -2, -2,  2,  4, -2,  0, -3, -1],\n",
       "       [ 0,  1,  3,  3,  5, -4,  1,  2,  2,  3],\n",
       "       [ 0,  0,  4,  3,  4, -1, -2, -5, -2,  0],\n",
       "       [ 0,  0,  0,  3, -4, -2, -2, -2,  2, -5],\n",
       "       [ 0,  0,  0,  0,  5, -1,  2, -2, -3,  2],\n",
       "       [ 0,  0,  0,  0,  0,  0,  1,  3, -1, -4],\n",
       "       [ 0,  0,  0,  0,  0,  0, -4,  2,  4,  4],\n",
       "       [ 0,  0,  0,  0,  0,  0,  0,  4,  5, -1],\n",
       "       [ 0,  0,  0,  0,  0,  0,  0,  0, -1, -2],\n",
       "       [ 0,  0,  0,  0,  0,  0,  0,  0,  0, -5]])"
      ]
     },
     "execution_count": 2,
     "metadata": {},
     "output_type": "execute_result"
    }
   ],
   "source": [
    "utils = QubingUtils()\n",
    "qubo = utils.random_model(n=10, seed=0)\n",
    "qubo"
   ]
  },
  {
   "cell_type": "code",
   "execution_count": 3,
   "metadata": {},
   "outputs": [
    {
     "data": {
      "text/plain": [
       "BinaryQuadraticModel({0: 0.0, 1: 1.0, 2: 4.0, 3: 3.0, 4: 5.0, 5: 0.0, 6: -4.0, 8: -1.0, 9: -5.0, 7: 4.0}, {(1, 0): -5.0, (2, 0): -2.0, (2, 1): 3.0, (3, 0): -2.0, (3, 1): 3.0, (3, 2): 3.0, (4, 0): 2.0, (4, 1): 5.0, (4, 2): 4.0, (4, 3): -4.0, (5, 0): 4.0, (5, 1): -4.0, (5, 2): -1.0, (5, 3): -2.0, (5, 4): -1.0, (6, 0): -2.0, (6, 1): 1.0, (6, 2): -2.0, (6, 3): -2.0, (6, 4): 2.0, (6, 5): 1.0, (8, 0): -3.0, (8, 1): 2.0, (8, 2): -2.0, (8, 3): 2.0, (8, 4): -3.0, (8, 5): -1.0, (8, 6): 4.0, (9, 0): -1.0, (9, 1): 3.0, (9, 3): -5.0, (9, 4): 2.0, (9, 5): -4.0, (9, 6): 4.0, (9, 8): -2.0, (7, 1): 2.0, (7, 2): -5.0, (7, 3): -2.0, (7, 4): -2.0, (7, 5): 3.0, (7, 6): 2.0, (7, 8): 5.0, (7, 9): -1.0}, 0.0, 'BINARY')"
      ]
     },
     "execution_count": 3,
     "metadata": {},
     "output_type": "execute_result"
    }
   ],
   "source": [
    "bqm = utils.mtx_to_bqm(model_type=\"QUBO\", model=qubo)\n",
    "bqm # なぜかlinearの番号が正しくなっていない"
   ]
  },
  {
   "cell_type": "code",
   "execution_count": 5,
   "metadata": {},
   "outputs": [],
   "source": [
    "sa_params = SAParams(\n",
    "    beta_range=[1/1000, 1/0.1],\n",
    "    num_reads=10,\n",
    "    seed=0,\n",
    ")\n",
    "sa = SA(sa_params)"
   ]
  },
  {
   "cell_type": "code",
   "execution_count": 8,
   "metadata": {},
   "outputs": [
    {
     "data": {
      "text/plain": [
       "(array([-17., -17., -17., -17., -17., -17., -17., -17., -17., -17.]),\n",
       " array([[1, 0, 0, 1, 0, 1, 0, 0, 1, 1],\n",
       "        [1, 0, 0, 1, 0, 1, 0, 0, 1, 1],\n",
       "        [1, 0, 0, 1, 0, 1, 0, 0, 1, 1],\n",
       "        [1, 0, 0, 1, 0, 1, 0, 0, 1, 1],\n",
       "        [1, 0, 0, 1, 0, 1, 0, 0, 1, 1],\n",
       "        [1, 0, 0, 1, 0, 1, 0, 0, 1, 1],\n",
       "        [1, 0, 0, 1, 0, 1, 0, 0, 1, 1],\n",
       "        [1, 1, 0, 1, 0, 1, 0, 0, 1, 1],\n",
       "        [1, 1, 0, 1, 0, 1, 0, 0, 1, 1],\n",
       "        [1, 1, 0, 1, 0, 1, 0, 0, 1, 1]], dtype=int8))"
      ]
     },
     "execution_count": 8,
     "metadata": {},
     "output_type": "execute_result"
    }
   ],
   "source": [
    "result1 = sa.sample(bqm=bqm)\n",
    "result1"
   ]
  },
  {
   "cell_type": "code",
   "execution_count": 9,
   "metadata": {},
   "outputs": [
    {
     "data": {
      "text/plain": [
       "(array([-17., -17., -17., -17., -17., -17., -17., -17., -17., -17.]),\n",
       " array([[1, 0, 0, 1, 0, 1, 0, 0, 1, 1],\n",
       "        [1, 0, 0, 1, 0, 1, 0, 0, 1, 1],\n",
       "        [1, 0, 0, 1, 0, 1, 0, 0, 1, 1],\n",
       "        [1, 0, 0, 1, 0, 1, 0, 0, 1, 1],\n",
       "        [1, 0, 0, 1, 0, 1, 0, 0, 1, 1],\n",
       "        [1, 0, 0, 1, 0, 1, 0, 0, 1, 1],\n",
       "        [1, 0, 0, 1, 0, 1, 0, 0, 1, 1],\n",
       "        [1, 1, 0, 1, 0, 1, 0, 0, 1, 1],\n",
       "        [1, 1, 0, 1, 0, 1, 0, 0, 1, 1],\n",
       "        [1, 1, 0, 1, 0, 1, 0, 0, 1, 1]], dtype=int8),\n",
       " SampleSet(rec.array([([1, 0, 0, 1, 0, 1, 0, 0, 1, 1], -17., 1),\n",
       "            ([1, 0, 0, 1, 0, 1, 0, 0, 1, 1], -17., 1),\n",
       "            ([1, 0, 0, 1, 0, 1, 0, 0, 1, 1], -17., 1),\n",
       "            ([1, 0, 0, 1, 0, 1, 0, 0, 1, 1], -17., 1),\n",
       "            ([1, 0, 0, 1, 0, 1, 0, 0, 1, 1], -17., 1),\n",
       "            ([1, 0, 0, 1, 0, 1, 0, 0, 1, 1], -17., 1),\n",
       "            ([1, 0, 0, 1, 0, 1, 0, 0, 1, 1], -17., 1),\n",
       "            ([1, 1, 0, 1, 0, 1, 0, 0, 1, 1], -17., 1),\n",
       "            ([1, 1, 0, 1, 0, 1, 0, 0, 1, 1], -17., 1),\n",
       "            ([1, 1, 0, 1, 0, 1, 0, 0, 1, 1], -17., 1)],\n",
       "           dtype=[('sample', 'i1', (10,)), ('energy', '<f8'), ('num_occurrences', '<i8')]), Variables([0, 1, 2, 3, 4, 5, 6, 7, 8, 9]), {'beta_range': [0.001, 10.0], 'beta_schedule_type': 'geometric', 'timing': {'preprocessing_ns': 1604792, 'sampling_ns': 2566208, 'postprocessing_ns': 216000}}, 'BINARY'))"
      ]
     },
     "execution_count": 9,
     "metadata": {},
     "output_type": "execute_result"
    }
   ],
   "source": [
    "result2 = sa.sample(bqm=bqm, raw=True)\n",
    "result2"
   ]
  }
 ],
 "metadata": {
  "kernelspec": {
   "display_name": ".venv",
   "language": "python",
   "name": "python3"
  },
  "language_info": {
   "codemirror_mode": {
    "name": "ipython",
    "version": 3
   },
   "file_extension": ".py",
   "mimetype": "text/x-python",
   "name": "python",
   "nbconvert_exporter": "python",
   "pygments_lexer": "ipython3",
   "version": "3.12.3"
  }
 },
 "nbformat": 4,
 "nbformat_minor": 2
}
