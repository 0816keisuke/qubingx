{
 "cells": [
  {
   "cell_type": "code",
   "execution_count": 1,
   "metadata": {},
   "outputs": [],
   "source": [
    "%load_ext autoreload\n",
    "%autoreload 2\n",
    "\n",
    "from qubingx import DWaveAnnealParams, DWaveQPU, QubingUtils, RandomGenerator"
   ]
  },
  {
   "cell_type": "code",
   "execution_count": 2,
   "metadata": {},
   "outputs": [
    {
     "data": {
      "text/plain": [
       "array([[ 0, -5, -2, -2,  2,  4, -2,  0, -3, -1],\n",
       "       [ 0,  1,  3,  3,  5, -4,  1,  2,  2,  3],\n",
       "       [ 0,  0,  4,  3,  4, -1, -2, -5, -2,  0],\n",
       "       [ 0,  0,  0,  3, -4, -2, -2, -2,  2, -5],\n",
       "       [ 0,  0,  0,  0,  5, -1,  2, -2, -3,  2],\n",
       "       [ 0,  0,  0,  0,  0,  0,  1,  3, -1, -4],\n",
       "       [ 0,  0,  0,  0,  0,  0, -4,  2,  4,  4],\n",
       "       [ 0,  0,  0,  0,  0,  0,  0,  4,  5, -1],\n",
       "       [ 0,  0,  0,  0,  0,  0,  0,  0, -1, -2],\n",
       "       [ 0,  0,  0,  0,  0,  0,  0,  0,  0, -5]])"
      ]
     },
     "execution_count": 2,
     "metadata": {},
     "output_type": "execute_result"
    }
   ],
   "source": [
    "rg = RandomGenerator()\n",
    "qubo = rg.random_model(n=10, seed=0)\n",
    "qubo"
   ]
  },
  {
   "cell_type": "code",
   "execution_count": 3,
   "metadata": {},
   "outputs": [
    {
     "data": {
      "text/plain": [
       "BinaryQuadraticModel({0: 0.0, 1: 1.0, 2: 4.0, 3: 3.0, 4: 5.0, 5: 0.0, 6: -4.0, 8: -1.0, 9: -5.0, 7: 4.0}, {(1, 0): -5.0, (2, 0): -2.0, (2, 1): 3.0, (3, 0): -2.0, (3, 1): 3.0, (3, 2): 3.0, (4, 0): 2.0, (4, 1): 5.0, (4, 2): 4.0, (4, 3): -4.0, (5, 0): 4.0, (5, 1): -4.0, (5, 2): -1.0, (5, 3): -2.0, (5, 4): -1.0, (6, 0): -2.0, (6, 1): 1.0, (6, 2): -2.0, (6, 3): -2.0, (6, 4): 2.0, (6, 5): 1.0, (8, 0): -3.0, (8, 1): 2.0, (8, 2): -2.0, (8, 3): 2.0, (8, 4): -3.0, (8, 5): -1.0, (8, 6): 4.0, (9, 0): -1.0, (9, 1): 3.0, (9, 3): -5.0, (9, 4): 2.0, (9, 5): -4.0, (9, 6): 4.0, (9, 8): -2.0, (7, 1): 2.0, (7, 2): -5.0, (7, 3): -2.0, (7, 4): -2.0, (7, 5): 3.0, (7, 6): 2.0, (7, 8): 5.0, (7, 9): -1.0}, 0.0, 'BINARY')"
      ]
     },
     "execution_count": 3,
     "metadata": {},
     "output_type": "execute_result"
    }
   ],
   "source": [
    "utils = QubingUtils()\n",
    "bqm = utils.mtx_to_bqm(model_type=\"QUBO\", model=qubo)\n",
    "bqm # なぜかlinearの番号が正しくなっていない"
   ]
  },
  {
   "cell_type": "code",
   "execution_count": 4,
   "metadata": {},
   "outputs": [],
   "source": [
    "qpu_params = DWaveAnnealParams(\n",
    "    annealing_time=1000,\n",
    "    num_reads=10,\n",
    ")\n",
    "qpu = DWaveQPU(qpu_params, config_file=\"../dwave.conf\")"
   ]
  },
  {
   "cell_type": "code",
   "execution_count": 5,
   "metadata": {},
   "outputs": [
    {
     "data": {
      "text/plain": [
       "([-17.0, -17.0, -17.0, -17.0, -17.0, -17.0, -16.0, -16.0, -16.0, -16.0],\n",
       " array([[1, 0, 0, 1, 0, 1, 0, 0, 1, 1],\n",
       "        [1, 0, 0, 1, 0, 1, 0, 0, 1, 1],\n",
       "        [1, 0, 0, 1, 0, 1, 0, 0, 1, 1],\n",
       "        [1, 1, 0, 1, 0, 1, 0, 0, 1, 1],\n",
       "        [1, 1, 0, 1, 0, 1, 0, 0, 1, 1],\n",
       "        [1, 1, 0, 1, 0, 1, 0, 0, 1, 1],\n",
       "        [1, 0, 0, 1, 0, 1, 1, 0, 1, 1],\n",
       "        [1, 0, 1, 1, 0, 1, 1, 0, 1, 1],\n",
       "        [1, 1, 0, 0, 0, 1, 0, 0, 1, 1],\n",
       "        [1, 1, 0, 1, 0, 1, 1, 0, 0, 1]], dtype=int8))"
      ]
     },
     "execution_count": 5,
     "metadata": {},
     "output_type": "execute_result"
    }
   ],
   "source": [
    "result1 = qpu.sample(bqm=bqm)\n",
    "result1"
   ]
  },
  {
   "cell_type": "code",
   "execution_count": 6,
   "metadata": {},
   "outputs": [
    {
     "data": {
      "text/plain": [
       "([-17.0, -17.0, -17.0, -17.0, -17.0, -17.0, -17.0, -16.0, -16.0, -16.0],\n",
       " array([[1, 0, 0, 1, 0, 1, 0, 0, 1, 1],\n",
       "        [1, 0, 0, 1, 0, 1, 0, 0, 1, 1],\n",
       "        [1, 0, 0, 1, 0, 1, 0, 0, 1, 1],\n",
       "        [1, 0, 0, 1, 0, 1, 0, 0, 1, 1],\n",
       "        [1, 1, 0, 1, 0, 1, 0, 0, 1, 1],\n",
       "        [1, 1, 0, 1, 0, 1, 0, 0, 1, 1],\n",
       "        [1, 1, 0, 1, 0, 1, 0, 0, 1, 1],\n",
       "        [0, 0, 0, 1, 1, 1, 0, 0, 1, 1],\n",
       "        [1, 0, 0, 1, 1, 1, 0, 0, 1, 1],\n",
       "        [1, 1, 0, 1, 0, 1, 1, 0, 0, 1]], dtype=int8),\n",
       " SampleSet(rec.array([([1, 0, 0, 1, 0, 1, 0, 0, 1, 1], -17., 4, 0.),\n",
       "            ([1, 1, 0, 1, 0, 1, 0, 0, 1, 1], -17., 3, 0.),\n",
       "            ([0, 0, 0, 1, 1, 1, 0, 0, 1, 1], -16., 1, 0.),\n",
       "            ([1, 0, 0, 1, 1, 1, 0, 0, 1, 1], -16., 1, 0.),\n",
       "            ([1, 1, 0, 1, 0, 1, 1, 0, 0, 1], -16., 1, 0.)],\n",
       "           dtype=[('sample', 'i1', (10,)), ('energy', '<f8'), ('num_occurrences', '<i8'), ('chain_break_fraction', '<f8')]), Variables([0, 1, 2, 3, 4, 5, 6, 7, 8, 9]), {'timing': {'qpu_sampling_time': 11033.8, 'qpu_anneal_time_per_sample': 1000.0, 'qpu_readout_time_per_sample': 82.8, 'qpu_access_time': 26960.16, 'qpu_access_overhead_time': 1256.84, 'qpu_programming_time': 15926.36, 'qpu_delay_time_per_sample': 20.58, 'total_post_processing_time': 1.0, 'post_processing_overhead_time': 1.0}, 'problem_id': 'b52385e8-6101-4d03-bc5c-88ff1fa696d8'}, 'BINARY'))"
      ]
     },
     "execution_count": 6,
     "metadata": {},
     "output_type": "execute_result"
    }
   ],
   "source": [
    "result2 = qpu.sample(bqm=bqm, raw=True)\n",
    "result2"
   ]
  }
 ],
 "metadata": {
  "kernelspec": {
   "display_name": ".venv",
   "language": "python",
   "name": "python3"
  },
  "language_info": {
   "codemirror_mode": {
    "name": "ipython",
    "version": 3
   },
   "file_extension": ".py",
   "mimetype": "text/x-python",
   "name": "python",
   "nbconvert_exporter": "python",
   "pygments_lexer": "ipython3",
   "version": "3.12.3"
  }
 },
 "nbformat": 4,
 "nbformat_minor": 2
}
