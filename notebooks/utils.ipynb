{
 "cells": [
  {
   "cell_type": "code",
   "execution_count": 1,
   "metadata": {},
   "outputs": [],
   "source": [
    "%load_ext autoreload\n",
    "%autoreload 2\n",
    "\n",
    "from qubingx import RandomGenerator, QubingUtils"
   ]
  },
  {
   "cell_type": "code",
   "execution_count": 2,
   "metadata": {},
   "outputs": [
    {
     "data": {
      "text/plain": [
       "(array([[ 0, -5, -2, -2,  2,  4, -2,  0, -3, -1],\n",
       "        [ 0,  1,  3,  3,  5, -4,  1,  2,  2,  3],\n",
       "        [ 0,  0,  4,  3,  4, -1, -2, -5, -2,  0],\n",
       "        [ 0,  0,  0,  3, -4, -2, -2, -2,  2, -5],\n",
       "        [ 0,  0,  0,  0,  5, -1,  2, -2, -3,  2],\n",
       "        [ 0,  0,  0,  0,  0,  0,  1,  3, -1, -4],\n",
       "        [ 0,  0,  0,  0,  0,  0, -4,  2,  4,  4],\n",
       "        [ 0,  0,  0,  0,  0,  0,  0,  4,  5, -1],\n",
       "        [ 0,  0,  0,  0,  0,  0,  0,  0, -1, -2],\n",
       "        [ 0,  0,  0,  0,  0,  0,  0,  0,  0, -5]]),\n",
       " array([[ 0,  0,  0,  0,  0,  0,  0,  0,  0,  0],\n",
       "        [-5,  1,  0,  0,  0,  0,  0,  0,  0,  0],\n",
       "        [-2,  3,  4,  0,  0,  0,  0,  0,  0,  0],\n",
       "        [-2,  3,  3,  3,  0,  0,  0,  0,  0,  0],\n",
       "        [ 2,  5,  4, -4,  5,  0,  0,  0,  0,  0],\n",
       "        [ 4, -4, -1, -2, -1,  0,  0,  0,  0,  0],\n",
       "        [-2,  1, -2, -2,  2,  1, -4,  0,  0,  0],\n",
       "        [ 0,  2, -5, -2, -2,  3,  2,  4,  0,  0],\n",
       "        [-3,  2, -2,  2, -3, -1,  4,  5, -1,  0],\n",
       "        [-1,  3,  0, -5,  2, -4,  4, -1, -2, -5]]),\n",
       " array([[ 0. , -2.5, -1. , -1. ,  1. ,  2. , -1. ,  0. , -1.5, -0.5],\n",
       "        [-2.5,  1. ,  1.5,  1.5,  2.5, -2. ,  0.5,  1. ,  1. ,  1.5],\n",
       "        [-1. ,  1.5,  4. ,  1.5,  2. , -0.5, -1. , -2.5, -1. ,  0. ],\n",
       "        [-1. ,  1.5,  1.5,  3. , -2. , -1. , -1. , -1. ,  1. , -2.5],\n",
       "        [ 1. ,  2.5,  2. , -2. ,  5. , -0.5,  1. , -1. , -1.5,  1. ],\n",
       "        [ 2. , -2. , -0.5, -1. , -0.5,  0. ,  0.5,  1.5, -0.5, -2. ],\n",
       "        [-1. ,  0.5, -1. , -1. ,  1. ,  0.5, -4. ,  1. ,  2. ,  2. ],\n",
       "        [ 0. ,  1. , -2.5, -1. , -1. ,  1.5,  1. ,  4. ,  2.5, -0.5],\n",
       "        [-1.5,  1. , -1. ,  1. , -1.5, -0.5,  2. ,  2.5, -1. , -1. ],\n",
       "        [-0.5,  1.5,  0. , -2.5,  1. , -2. ,  2. , -0.5, -1. , -5. ]]))"
      ]
     },
     "execution_count": 2,
     "metadata": {},
     "output_type": "execute_result"
    }
   ],
   "source": [
    "utils = QubingUtils()\n",
    "rg = RandomGenerator()\n",
    "\n",
    "qubo_up = rg.random_model(n=10, model_type=\"upper\", seed=0)\n",
    "qubo_low = rg.random_model(n=10, model_type=\"lower\", seed=0)\n",
    "qubo_sym = rg.random_model(n=10, model_type=\"symmetric\", seed=0)\n",
    "qubo_up, qubo_low, qubo_sym"
   ]
  },
  {
   "cell_type": "code",
   "execution_count": 3,
   "metadata": {},
   "outputs": [
    {
     "data": {
      "text/plain": [
       "[1, 1, 0, 0, 1, 0, 1, 0, 0, 1]"
      ]
     },
     "execution_count": 3,
     "metadata": {},
     "output_type": "execute_result"
    }
   ],
   "source": [
    "solution = rg.random_solution(n=10, model_type=\"QUBO\", seed=0)\n",
    "solution"
   ]
  },
  {
   "cell_type": "code",
   "execution_count": 4,
   "metadata": {},
   "outputs": [
    {
     "data": {
      "text/plain": [
       "8.0"
      ]
     },
     "execution_count": 4,
     "metadata": {},
     "output_type": "execute_result"
    }
   ],
   "source": [
    "utils.calc_energy(model_type=\"QUBO\", model=qubo_up, solution=solution)"
   ]
  },
  {
   "cell_type": "code",
   "execution_count": 5,
   "metadata": {},
   "outputs": [
    {
     "data": {
      "text/plain": [
       "8.0"
      ]
     },
     "execution_count": 5,
     "metadata": {},
     "output_type": "execute_result"
    }
   ],
   "source": [
    "utils.calc_energy(model_type=\"QUBO\", model=qubo_low, solution=solution)"
   ]
  },
  {
   "cell_type": "code",
   "execution_count": 6,
   "metadata": {},
   "outputs": [
    {
     "data": {
      "text/plain": [
       "8.0"
      ]
     },
     "execution_count": 6,
     "metadata": {},
     "output_type": "execute_result"
    }
   ],
   "source": [
    "utils.calc_energy(model_type=\"QUBO\", model=qubo_sym, solution=solution)"
   ]
  },
  {
   "cell_type": "code",
   "execution_count": null,
   "metadata": {},
   "outputs": [],
   "source": []
  }
 ],
 "metadata": {
  "kernelspec": {
   "display_name": ".venv",
   "language": "python",
   "name": "python3"
  },
  "language_info": {
   "codemirror_mode": {
    "name": "ipython",
    "version": 3
   },
   "file_extension": ".py",
   "mimetype": "text/x-python",
   "name": "python",
   "nbconvert_exporter": "python",
   "pygments_lexer": "ipython3",
   "version": "3.12.3"
  }
 },
 "nbformat": 4,
 "nbformat_minor": 2
}
