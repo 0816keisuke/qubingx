{
 "cells": [
  {
   "cell_type": "code",
   "execution_count": 1,
   "metadata": {},
   "outputs": [],
   "source": [
    "import numpy as np\n",
    "from qubingx.cop.tsp import TSP"
   ]
  },
  {
   "cell_type": "code",
   "execution_count": 2,
   "metadata": {},
   "outputs": [],
   "source": [
    "def read_instance(filename: str):\n",
    "    \"\"\"\n",
    "    QAPインスタンス(工場間の重み行列, 工場を配置する施設間の距離行列)の読み込み\n",
    "    入力：QAPインスタンスのテキストファイルのパス\n",
    "    出力：工場間の重み行列，工場を配置する施設間の距離行列\n",
    "    \"\"\"\n",
    "    all_data = np.loadtxt(filename, skiprows=1)\n",
    "    return all_data[:len(all_data[0])], all_data[len(all_data[0]):]\n"
   ]
  },
  {
   "cell_type": "code",
   "execution_count": 3,
   "metadata": {},
   "outputs": [
    {
     "data": {
      "text/plain": [
       "array([[ 0.,  6., 44., 40., 75.],\n",
       "       [ 6.,  0., 79.,  0., 89.],\n",
       "       [44., 79.,  0., 35.,  9.],\n",
       "       [40.,  0., 35.,  0.,  1.],\n",
       "       [75., 89.,  9.,  1.,  0.]])"
      ]
     },
     "execution_count": 3,
     "metadata": {},
     "output_type": "execute_result"
    }
   ],
   "source": [
    "filename = \"./instance/qap/tai5a/tai5a.txt\"\n",
    "weight_mtx, distance_mtx = read_instance(filename)\n",
    "weight_mtx"
   ]
  },
  {
   "cell_type": "code",
   "execution_count": 5,
   "metadata": {},
   "outputs": [],
   "source": [
    "model = TSP(distance_mtx=distance_mtx)"
   ]
  },
  {
   "cell_type": "code",
   "execution_count": null,
   "metadata": {},
   "outputs": [],
   "source": []
  }
 ],
 "metadata": {
  "kernelspec": {
   "display_name": ".venv",
   "language": "python",
   "name": "python3"
  },
  "language_info": {
   "codemirror_mode": {
    "name": "ipython",
    "version": 3
   },
   "file_extension": ".py",
   "mimetype": "text/x-python",
   "name": "python",
   "nbconvert_exporter": "python",
   "pygments_lexer": "ipython3",
   "version": "3.11.6"
  }
 },
 "nbformat": 4,
 "nbformat_minor": 2
}
