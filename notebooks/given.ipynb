{
 "cells": [
  {
   "cell_type": "code",
   "execution_count": 1,
   "metadata": {},
   "outputs": [],
   "source": [
    "%load_ext autoreload\n",
    "%autoreload 2\n",
    "\n",
    "import numpy as np\n",
    "from qubingx.cop.given import Given\n",
    "from qubingx.utils import QubingUtils\n",
    "from qubingx.solver.sa import SAParams, SA\n"
   ]
  },
  {
   "cell_type": "code",
   "execution_count": 2,
   "metadata": {},
   "outputs": [
    {
     "data": {
      "text/plain": [
       "array([[ 0, -5, -2, -2,  2,  4, -2,  0, -3, -1],\n",
       "       [ 0,  1,  3,  3,  5, -4,  1,  2,  2,  3],\n",
       "       [ 0,  0,  4,  3,  4, -1, -2, -5, -2,  0],\n",
       "       [ 0,  0,  0,  3, -4, -2, -2, -2,  2, -5],\n",
       "       [ 0,  0,  0,  0,  5, -1,  2, -2, -3,  2],\n",
       "       [ 0,  0,  0,  0,  0,  0,  1,  3, -1, -4],\n",
       "       [ 0,  0,  0,  0,  0,  0, -4,  2,  4,  4],\n",
       "       [ 0,  0,  0,  0,  0,  0,  0,  4,  5, -1],\n",
       "       [ 0,  0,  0,  0,  0,  0,  0,  0, -1, -2],\n",
       "       [ 0,  0,  0,  0,  0,  0,  0,  0,  0, -5]])"
      ]
     },
     "execution_count": 2,
     "metadata": {},
     "output_type": "execute_result"
    }
   ],
   "source": [
    "utils = QubingUtils()\n",
    "qubo = utils.random_model(n=10, seed=0)\n",
    "qubo"
   ]
  },
  {
   "cell_type": "code",
   "execution_count": 3,
   "metadata": {},
   "outputs": [],
   "source": [
    "model = Given(mtx_all=qubo)"
   ]
  },
  {
   "cell_type": "code",
   "execution_count": 4,
   "metadata": {},
   "outputs": [
    {
     "data": {
      "text/plain": [
       "BinaryQuadraticModel({0: 0.0, 1: 1.0, 2: 4.0, 3: 3.0, 4: 5.0, 5: 0.0, 6: -4.0, 8: -1.0, 9: -5.0, 7: 4.0}, {(1, 0): -5.0, (2, 0): -2.0, (2, 1): 3.0, (3, 0): -2.0, (3, 1): 3.0, (3, 2): 3.0, (4, 0): 2.0, (4, 1): 5.0, (4, 2): 4.0, (4, 3): -4.0, (5, 0): 4.0, (5, 1): -4.0, (5, 2): -1.0, (5, 3): -2.0, (5, 4): -1.0, (6, 0): -2.0, (6, 1): 1.0, (6, 2): -2.0, (6, 3): -2.0, (6, 4): 2.0, (6, 5): 1.0, (8, 0): -3.0, (8, 1): 2.0, (8, 2): -2.0, (8, 3): 2.0, (8, 4): -3.0, (8, 5): -1.0, (8, 6): 4.0, (9, 0): -1.0, (9, 1): 3.0, (9, 3): -5.0, (9, 4): 2.0, (9, 5): -4.0, (9, 6): 4.0, (9, 8): -2.0, (7, 1): 2.0, (7, 2): -5.0, (7, 3): -2.0, (7, 4): -2.0, (7, 5): 3.0, (7, 6): 2.0, (7, 8): 5.0, (7, 9): -1.0}, 0.0, 'BINARY')"
      ]
     },
     "execution_count": 4,
     "metadata": {},
     "output_type": "execute_result"
    }
   ],
   "source": [
    "model.to_bqm()"
   ]
  },
  {
   "cell_type": "code",
   "execution_count": 5,
   "metadata": {},
   "outputs": [
    {
     "data": {
      "text/plain": [
       "(array([[ 0, -5, -2, -2,  2,  4, -2,  0, -3, -1],\n",
       "        [ 0,  1,  3,  3,  5, -4,  1,  2,  2,  3],\n",
       "        [ 0,  0,  4,  3,  4, -1, -2, -5, -2,  0],\n",
       "        [ 0,  0,  0,  3, -4, -2, -2, -2,  2, -5],\n",
       "        [ 0,  0,  0,  0,  5, -1,  2, -2, -3,  2],\n",
       "        [ 0,  0,  0,  0,  0,  0,  1,  3, -1, -4],\n",
       "        [ 0,  0,  0,  0,  0,  0, -4,  2,  4,  4],\n",
       "        [ 0,  0,  0,  0,  0,  0,  0,  4,  5, -1],\n",
       "        [ 0,  0,  0,  0,  0,  0,  0,  0, -1, -2],\n",
       "        [ 0,  0,  0,  0,  0,  0,  0,  0,  0, -5]]),\n",
       " array([[0., 0., 0., 0., 0., 0., 0., 0., 0., 0.],\n",
       "        [0., 0., 0., 0., 0., 0., 0., 0., 0., 0.],\n",
       "        [0., 0., 0., 0., 0., 0., 0., 0., 0., 0.],\n",
       "        [0., 0., 0., 0., 0., 0., 0., 0., 0., 0.],\n",
       "        [0., 0., 0., 0., 0., 0., 0., 0., 0., 0.],\n",
       "        [0., 0., 0., 0., 0., 0., 0., 0., 0., 0.],\n",
       "        [0., 0., 0., 0., 0., 0., 0., 0., 0., 0.],\n",
       "        [0., 0., 0., 0., 0., 0., 0., 0., 0., 0.],\n",
       "        [0., 0., 0., 0., 0., 0., 0., 0., 0., 0.],\n",
       "        [0., 0., 0., 0., 0., 0., 0., 0., 0., 0.]]),\n",
       " array([[0., 0., 0., 0., 0., 0., 0., 0., 0., 0.],\n",
       "        [0., 0., 0., 0., 0., 0., 0., 0., 0., 0.],\n",
       "        [0., 0., 0., 0., 0., 0., 0., 0., 0., 0.],\n",
       "        [0., 0., 0., 0., 0., 0., 0., 0., 0., 0.],\n",
       "        [0., 0., 0., 0., 0., 0., 0., 0., 0., 0.],\n",
       "        [0., 0., 0., 0., 0., 0., 0., 0., 0., 0.],\n",
       "        [0., 0., 0., 0., 0., 0., 0., 0., 0., 0.],\n",
       "        [0., 0., 0., 0., 0., 0., 0., 0., 0., 0.],\n",
       "        [0., 0., 0., 0., 0., 0., 0., 0., 0., 0.],\n",
       "        [0., 0., 0., 0., 0., 0., 0., 0., 0., 0.]]))"
      ]
     },
     "execution_count": 5,
     "metadata": {},
     "output_type": "execute_result"
    }
   ],
   "source": [
    "model.h_all, model.h_obj, model.h_constraint"
   ]
  },
  {
   "cell_type": "code",
   "execution_count": 6,
   "metadata": {},
   "outputs": [
    {
     "data": {
      "text/plain": [
       "{(0, 1): -5,\n",
       " (0, 2): -2,\n",
       " (0, 3): -2,\n",
       " (0, 4): 2,\n",
       " (0, 5): 4,\n",
       " (0, 6): -2,\n",
       " (0, 8): -3,\n",
       " (0, 9): -1,\n",
       " (1, 1): 1,\n",
       " (1, 2): 3,\n",
       " (1, 3): 3,\n",
       " (1, 4): 5,\n",
       " (1, 5): -4,\n",
       " (1, 6): 1,\n",
       " (1, 7): 2,\n",
       " (1, 8): 2,\n",
       " (1, 9): 3,\n",
       " (2, 2): 4,\n",
       " (2, 3): 3,\n",
       " (2, 4): 4,\n",
       " (2, 5): -1,\n",
       " (2, 6): -2,\n",
       " (2, 7): -5,\n",
       " (2, 8): -2,\n",
       " (3, 3): 3,\n",
       " (3, 4): -4,\n",
       " (3, 5): -2,\n",
       " (3, 6): -2,\n",
       " (3, 7): -2,\n",
       " (3, 8): 2,\n",
       " (3, 9): -5,\n",
       " (4, 4): 5,\n",
       " (4, 5): -1,\n",
       " (4, 6): 2,\n",
       " (4, 7): -2,\n",
       " (4, 8): -3,\n",
       " (4, 9): 2,\n",
       " (5, 6): 1,\n",
       " (5, 7): 3,\n",
       " (5, 8): -1,\n",
       " (5, 9): -4,\n",
       " (6, 6): -4,\n",
       " (6, 7): 2,\n",
       " (6, 8): 4,\n",
       " (6, 9): 4,\n",
       " (7, 7): 4,\n",
       " (7, 8): 5,\n",
       " (7, 9): -1,\n",
       " (8, 8): -1,\n",
       " (8, 9): -2,\n",
       " (9, 9): -5}"
      ]
     },
     "execution_count": 6,
     "metadata": {},
     "output_type": "execute_result"
    }
   ],
   "source": [
    "model.to_dict()"
   ]
  },
  {
   "cell_type": "code",
   "execution_count": 7,
   "metadata": {},
   "outputs": [
    {
     "data": {
      "application/vnd.plotly.v1+json": {
       "config": {
        "plotlyServerURL": "https://plot.ly"
       },
       "data": [
        {
         "coloraxis": "coloraxis",
         "hovertemplate": "x: %{x}<br>y: %{y}<br>color: %{z}<extra></extra>",
         "name": "0",
         "type": "heatmap",
         "xaxis": "x",
         "yaxis": "y",
         "z": [
          [
           0,
           -5,
           -2,
           -2,
           2,
           4,
           -2,
           0,
           -3,
           -1
          ],
          [
           0,
           1,
           3,
           3,
           5,
           -4,
           1,
           2,
           2,
           3
          ],
          [
           0,
           0,
           4,
           3,
           4,
           -1,
           -2,
           -5,
           -2,
           0
          ],
          [
           0,
           0,
           0,
           3,
           -4,
           -2,
           -2,
           -2,
           2,
           -5
          ],
          [
           0,
           0,
           0,
           0,
           5,
           -1,
           2,
           -2,
           -3,
           2
          ],
          [
           0,
           0,
           0,
           0,
           0,
           0,
           1,
           3,
           -1,
           -4
          ],
          [
           0,
           0,
           0,
           0,
           0,
           0,
           -4,
           2,
           4,
           4
          ],
          [
           0,
           0,
           0,
           0,
           0,
           0,
           0,
           4,
           5,
           -1
          ],
          [
           0,
           0,
           0,
           0,
           0,
           0,
           0,
           0,
           -1,
           -2
          ],
          [
           0,
           0,
           0,
           0,
           0,
           0,
           0,
           0,
           0,
           -5
          ]
         ]
        }
       ],
       "layout": {
        "coloraxis": {
         "colorscale": [
          [
           0,
           "#0d0887"
          ],
          [
           0.1111111111111111,
           "#46039f"
          ],
          [
           0.2222222222222222,
           "#7201a8"
          ],
          [
           0.3333333333333333,
           "#9c179e"
          ],
          [
           0.4444444444444444,
           "#bd3786"
          ],
          [
           0.5555555555555556,
           "#d8576b"
          ],
          [
           0.6666666666666666,
           "#ed7953"
          ],
          [
           0.7777777777777778,
           "#fb9f3a"
          ],
          [
           0.8888888888888888,
           "#fdca26"
          ],
          [
           1,
           "#f0f921"
          ]
         ]
        },
        "margin": {
         "t": 60
        },
        "template": {
         "data": {
          "bar": [
           {
            "error_x": {
             "color": "#2a3f5f"
            },
            "error_y": {
             "color": "#2a3f5f"
            },
            "marker": {
             "line": {
              "color": "#E5ECF6",
              "width": 0.5
             },
             "pattern": {
              "fillmode": "overlay",
              "size": 10,
              "solidity": 0.2
             }
            },
            "type": "bar"
           }
          ],
          "barpolar": [
           {
            "marker": {
             "line": {
              "color": "#E5ECF6",
              "width": 0.5
             },
             "pattern": {
              "fillmode": "overlay",
              "size": 10,
              "solidity": 0.2
             }
            },
            "type": "barpolar"
           }
          ],
          "carpet": [
           {
            "aaxis": {
             "endlinecolor": "#2a3f5f",
             "gridcolor": "white",
             "linecolor": "white",
             "minorgridcolor": "white",
             "startlinecolor": "#2a3f5f"
            },
            "baxis": {
             "endlinecolor": "#2a3f5f",
             "gridcolor": "white",
             "linecolor": "white",
             "minorgridcolor": "white",
             "startlinecolor": "#2a3f5f"
            },
            "type": "carpet"
           }
          ],
          "choropleth": [
           {
            "colorbar": {
             "outlinewidth": 0,
             "ticks": ""
            },
            "type": "choropleth"
           }
          ],
          "contour": [
           {
            "colorbar": {
             "outlinewidth": 0,
             "ticks": ""
            },
            "colorscale": [
             [
              0,
              "#0d0887"
             ],
             [
              0.1111111111111111,
              "#46039f"
             ],
             [
              0.2222222222222222,
              "#7201a8"
             ],
             [
              0.3333333333333333,
              "#9c179e"
             ],
             [
              0.4444444444444444,
              "#bd3786"
             ],
             [
              0.5555555555555556,
              "#d8576b"
             ],
             [
              0.6666666666666666,
              "#ed7953"
             ],
             [
              0.7777777777777778,
              "#fb9f3a"
             ],
             [
              0.8888888888888888,
              "#fdca26"
             ],
             [
              1,
              "#f0f921"
             ]
            ],
            "type": "contour"
           }
          ],
          "contourcarpet": [
           {
            "colorbar": {
             "outlinewidth": 0,
             "ticks": ""
            },
            "type": "contourcarpet"
           }
          ],
          "heatmap": [
           {
            "colorbar": {
             "outlinewidth": 0,
             "ticks": ""
            },
            "colorscale": [
             [
              0,
              "#0d0887"
             ],
             [
              0.1111111111111111,
              "#46039f"
             ],
             [
              0.2222222222222222,
              "#7201a8"
             ],
             [
              0.3333333333333333,
              "#9c179e"
             ],
             [
              0.4444444444444444,
              "#bd3786"
             ],
             [
              0.5555555555555556,
              "#d8576b"
             ],
             [
              0.6666666666666666,
              "#ed7953"
             ],
             [
              0.7777777777777778,
              "#fb9f3a"
             ],
             [
              0.8888888888888888,
              "#fdca26"
             ],
             [
              1,
              "#f0f921"
             ]
            ],
            "type": "heatmap"
           }
          ],
          "heatmapgl": [
           {
            "colorbar": {
             "outlinewidth": 0,
             "ticks": ""
            },
            "colorscale": [
             [
              0,
              "#0d0887"
             ],
             [
              0.1111111111111111,
              "#46039f"
             ],
             [
              0.2222222222222222,
              "#7201a8"
             ],
             [
              0.3333333333333333,
              "#9c179e"
             ],
             [
              0.4444444444444444,
              "#bd3786"
             ],
             [
              0.5555555555555556,
              "#d8576b"
             ],
             [
              0.6666666666666666,
              "#ed7953"
             ],
             [
              0.7777777777777778,
              "#fb9f3a"
             ],
             [
              0.8888888888888888,
              "#fdca26"
             ],
             [
              1,
              "#f0f921"
             ]
            ],
            "type": "heatmapgl"
           }
          ],
          "histogram": [
           {
            "marker": {
             "pattern": {
              "fillmode": "overlay",
              "size": 10,
              "solidity": 0.2
             }
            },
            "type": "histogram"
           }
          ],
          "histogram2d": [
           {
            "colorbar": {
             "outlinewidth": 0,
             "ticks": ""
            },
            "colorscale": [
             [
              0,
              "#0d0887"
             ],
             [
              0.1111111111111111,
              "#46039f"
             ],
             [
              0.2222222222222222,
              "#7201a8"
             ],
             [
              0.3333333333333333,
              "#9c179e"
             ],
             [
              0.4444444444444444,
              "#bd3786"
             ],
             [
              0.5555555555555556,
              "#d8576b"
             ],
             [
              0.6666666666666666,
              "#ed7953"
             ],
             [
              0.7777777777777778,
              "#fb9f3a"
             ],
             [
              0.8888888888888888,
              "#fdca26"
             ],
             [
              1,
              "#f0f921"
             ]
            ],
            "type": "histogram2d"
           }
          ],
          "histogram2dcontour": [
           {
            "colorbar": {
             "outlinewidth": 0,
             "ticks": ""
            },
            "colorscale": [
             [
              0,
              "#0d0887"
             ],
             [
              0.1111111111111111,
              "#46039f"
             ],
             [
              0.2222222222222222,
              "#7201a8"
             ],
             [
              0.3333333333333333,
              "#9c179e"
             ],
             [
              0.4444444444444444,
              "#bd3786"
             ],
             [
              0.5555555555555556,
              "#d8576b"
             ],
             [
              0.6666666666666666,
              "#ed7953"
             ],
             [
              0.7777777777777778,
              "#fb9f3a"
             ],
             [
              0.8888888888888888,
              "#fdca26"
             ],
             [
              1,
              "#f0f921"
             ]
            ],
            "type": "histogram2dcontour"
           }
          ],
          "mesh3d": [
           {
            "colorbar": {
             "outlinewidth": 0,
             "ticks": ""
            },
            "type": "mesh3d"
           }
          ],
          "parcoords": [
           {
            "line": {
             "colorbar": {
              "outlinewidth": 0,
              "ticks": ""
             }
            },
            "type": "parcoords"
           }
          ],
          "pie": [
           {
            "automargin": true,
            "type": "pie"
           }
          ],
          "scatter": [
           {
            "fillpattern": {
             "fillmode": "overlay",
             "size": 10,
             "solidity": 0.2
            },
            "type": "scatter"
           }
          ],
          "scatter3d": [
           {
            "line": {
             "colorbar": {
              "outlinewidth": 0,
              "ticks": ""
             }
            },
            "marker": {
             "colorbar": {
              "outlinewidth": 0,
              "ticks": ""
             }
            },
            "type": "scatter3d"
           }
          ],
          "scattercarpet": [
           {
            "marker": {
             "colorbar": {
              "outlinewidth": 0,
              "ticks": ""
             }
            },
            "type": "scattercarpet"
           }
          ],
          "scattergeo": [
           {
            "marker": {
             "colorbar": {
              "outlinewidth": 0,
              "ticks": ""
             }
            },
            "type": "scattergeo"
           }
          ],
          "scattergl": [
           {
            "marker": {
             "colorbar": {
              "outlinewidth": 0,
              "ticks": ""
             }
            },
            "type": "scattergl"
           }
          ],
          "scattermapbox": [
           {
            "marker": {
             "colorbar": {
              "outlinewidth": 0,
              "ticks": ""
             }
            },
            "type": "scattermapbox"
           }
          ],
          "scatterpolar": [
           {
            "marker": {
             "colorbar": {
              "outlinewidth": 0,
              "ticks": ""
             }
            },
            "type": "scatterpolar"
           }
          ],
          "scatterpolargl": [
           {
            "marker": {
             "colorbar": {
              "outlinewidth": 0,
              "ticks": ""
             }
            },
            "type": "scatterpolargl"
           }
          ],
          "scatterternary": [
           {
            "marker": {
             "colorbar": {
              "outlinewidth": 0,
              "ticks": ""
             }
            },
            "type": "scatterternary"
           }
          ],
          "surface": [
           {
            "colorbar": {
             "outlinewidth": 0,
             "ticks": ""
            },
            "colorscale": [
             [
              0,
              "#0d0887"
             ],
             [
              0.1111111111111111,
              "#46039f"
             ],
             [
              0.2222222222222222,
              "#7201a8"
             ],
             [
              0.3333333333333333,
              "#9c179e"
             ],
             [
              0.4444444444444444,
              "#bd3786"
             ],
             [
              0.5555555555555556,
              "#d8576b"
             ],
             [
              0.6666666666666666,
              "#ed7953"
             ],
             [
              0.7777777777777778,
              "#fb9f3a"
             ],
             [
              0.8888888888888888,
              "#fdca26"
             ],
             [
              1,
              "#f0f921"
             ]
            ],
            "type": "surface"
           }
          ],
          "table": [
           {
            "cells": {
             "fill": {
              "color": "#EBF0F8"
             },
             "line": {
              "color": "white"
             }
            },
            "header": {
             "fill": {
              "color": "#C8D4E3"
             },
             "line": {
              "color": "white"
             }
            },
            "type": "table"
           }
          ]
         },
         "layout": {
          "annotationdefaults": {
           "arrowcolor": "#2a3f5f",
           "arrowhead": 0,
           "arrowwidth": 1
          },
          "autotypenumbers": "strict",
          "coloraxis": {
           "colorbar": {
            "outlinewidth": 0,
            "ticks": ""
           }
          },
          "colorscale": {
           "diverging": [
            [
             0,
             "#8e0152"
            ],
            [
             0.1,
             "#c51b7d"
            ],
            [
             0.2,
             "#de77ae"
            ],
            [
             0.3,
             "#f1b6da"
            ],
            [
             0.4,
             "#fde0ef"
            ],
            [
             0.5,
             "#f7f7f7"
            ],
            [
             0.6,
             "#e6f5d0"
            ],
            [
             0.7,
             "#b8e186"
            ],
            [
             0.8,
             "#7fbc41"
            ],
            [
             0.9,
             "#4d9221"
            ],
            [
             1,
             "#276419"
            ]
           ],
           "sequential": [
            [
             0,
             "#0d0887"
            ],
            [
             0.1111111111111111,
             "#46039f"
            ],
            [
             0.2222222222222222,
             "#7201a8"
            ],
            [
             0.3333333333333333,
             "#9c179e"
            ],
            [
             0.4444444444444444,
             "#bd3786"
            ],
            [
             0.5555555555555556,
             "#d8576b"
            ],
            [
             0.6666666666666666,
             "#ed7953"
            ],
            [
             0.7777777777777778,
             "#fb9f3a"
            ],
            [
             0.8888888888888888,
             "#fdca26"
            ],
            [
             1,
             "#f0f921"
            ]
           ],
           "sequentialminus": [
            [
             0,
             "#0d0887"
            ],
            [
             0.1111111111111111,
             "#46039f"
            ],
            [
             0.2222222222222222,
             "#7201a8"
            ],
            [
             0.3333333333333333,
             "#9c179e"
            ],
            [
             0.4444444444444444,
             "#bd3786"
            ],
            [
             0.5555555555555556,
             "#d8576b"
            ],
            [
             0.6666666666666666,
             "#ed7953"
            ],
            [
             0.7777777777777778,
             "#fb9f3a"
            ],
            [
             0.8888888888888888,
             "#fdca26"
            ],
            [
             1,
             "#f0f921"
            ]
           ]
          },
          "colorway": [
           "#636efa",
           "#EF553B",
           "#00cc96",
           "#ab63fa",
           "#FFA15A",
           "#19d3f3",
           "#FF6692",
           "#B6E880",
           "#FF97FF",
           "#FECB52"
          ],
          "font": {
           "color": "#2a3f5f"
          },
          "geo": {
           "bgcolor": "white",
           "lakecolor": "white",
           "landcolor": "#E5ECF6",
           "showlakes": true,
           "showland": true,
           "subunitcolor": "white"
          },
          "hoverlabel": {
           "align": "left"
          },
          "hovermode": "closest",
          "mapbox": {
           "style": "light"
          },
          "paper_bgcolor": "white",
          "plot_bgcolor": "#E5ECF6",
          "polar": {
           "angularaxis": {
            "gridcolor": "white",
            "linecolor": "white",
            "ticks": ""
           },
           "bgcolor": "#E5ECF6",
           "radialaxis": {
            "gridcolor": "white",
            "linecolor": "white",
            "ticks": ""
           }
          },
          "scene": {
           "xaxis": {
            "backgroundcolor": "#E5ECF6",
            "gridcolor": "white",
            "gridwidth": 2,
            "linecolor": "white",
            "showbackground": true,
            "ticks": "",
            "zerolinecolor": "white"
           },
           "yaxis": {
            "backgroundcolor": "#E5ECF6",
            "gridcolor": "white",
            "gridwidth": 2,
            "linecolor": "white",
            "showbackground": true,
            "ticks": "",
            "zerolinecolor": "white"
           },
           "zaxis": {
            "backgroundcolor": "#E5ECF6",
            "gridcolor": "white",
            "gridwidth": 2,
            "linecolor": "white",
            "showbackground": true,
            "ticks": "",
            "zerolinecolor": "white"
           }
          },
          "shapedefaults": {
           "line": {
            "color": "#2a3f5f"
           }
          },
          "ternary": {
           "aaxis": {
            "gridcolor": "white",
            "linecolor": "white",
            "ticks": ""
           },
           "baxis": {
            "gridcolor": "white",
            "linecolor": "white",
            "ticks": ""
           },
           "bgcolor": "#E5ECF6",
           "caxis": {
            "gridcolor": "white",
            "linecolor": "white",
            "ticks": ""
           }
          },
          "title": {
           "x": 0.05
          },
          "xaxis": {
           "automargin": true,
           "gridcolor": "white",
           "linecolor": "white",
           "ticks": "",
           "title": {
            "standoff": 15
           },
           "zerolinecolor": "white",
           "zerolinewidth": 2
          },
          "yaxis": {
           "automargin": true,
           "gridcolor": "white",
           "linecolor": "white",
           "ticks": "",
           "title": {
            "standoff": 15
           },
           "zerolinecolor": "white",
           "zerolinewidth": 2
          }
         }
        },
        "xaxis": {
         "anchor": "y",
         "constrain": "domain",
         "domain": [
          0,
          1
         ],
         "scaleanchor": "y"
        },
        "yaxis": {
         "anchor": "x",
         "autorange": "reversed",
         "constrain": "domain",
         "domain": [
          0,
          1
         ]
        }
       }
      }
     },
     "metadata": {},
     "output_type": "display_data"
    }
   ],
   "source": [
    "model.show(group=\"all\")"
   ]
  },
  {
   "cell_type": "code",
   "execution_count": 8,
   "metadata": {},
   "outputs": [],
   "source": [
    "sa_params = SAParams(\n",
    "    beta_range=[1/1000, 1/0.1],\n",
    "    num_reads=10,\n",
    "    seed=0,\n",
    ")\n",
    "sa = SA(sa_params)"
   ]
  },
  {
   "cell_type": "code",
   "execution_count": 9,
   "metadata": {},
   "outputs": [
    {
     "data": {
      "text/plain": [
       "(array([-17., -17., -17., -17., -17., -17., -17., -17., -17., -17.]),\n",
       " array([[1, 0, 0, 1, 0, 1, 0, 0, 1, 1],\n",
       "        [1, 0, 0, 1, 0, 1, 0, 0, 1, 1],\n",
       "        [1, 0, 0, 1, 0, 1, 0, 0, 1, 1],\n",
       "        [1, 0, 0, 1, 0, 1, 0, 0, 1, 1],\n",
       "        [1, 0, 0, 1, 0, 1, 0, 0, 1, 1],\n",
       "        [1, 0, 0, 1, 0, 1, 0, 0, 1, 1],\n",
       "        [1, 0, 0, 1, 0, 1, 0, 0, 1, 1],\n",
       "        [1, 1, 0, 1, 0, 1, 0, 0, 1, 1],\n",
       "        [1, 1, 0, 1, 0, 1, 0, 0, 1, 1],\n",
       "        [1, 1, 0, 1, 0, 1, 0, 0, 1, 1]], dtype=int8))"
      ]
     },
     "execution_count": 9,
     "metadata": {},
     "output_type": "execute_result"
    }
   ],
   "source": [
    "result1 = sa.sample(bqm=model.to_bqm())\n",
    "result1"
   ]
  },
  {
   "cell_type": "code",
   "execution_count": 10,
   "metadata": {},
   "outputs": [
    {
     "data": {
      "text/plain": [
       "(array([-17., -17., -17., -17., -17., -17., -17., -17., -17., -17.]),\n",
       " array([[1, 0, 0, 1, 0, 1, 0, 0, 1, 1],\n",
       "        [1, 0, 0, 1, 0, 1, 0, 0, 1, 1],\n",
       "        [1, 0, 0, 1, 0, 1, 0, 0, 1, 1],\n",
       "        [1, 0, 0, 1, 0, 1, 0, 0, 1, 1],\n",
       "        [1, 0, 0, 1, 0, 1, 0, 0, 1, 1],\n",
       "        [1, 0, 0, 1, 0, 1, 0, 0, 1, 1],\n",
       "        [1, 0, 0, 1, 0, 1, 0, 0, 1, 1],\n",
       "        [1, 1, 0, 1, 0, 1, 0, 0, 1, 1],\n",
       "        [1, 1, 0, 1, 0, 1, 0, 0, 1, 1],\n",
       "        [1, 1, 0, 1, 0, 1, 0, 0, 1, 1]], dtype=int8),\n",
       " SampleSet(rec.array([([1, 0, 0, 1, 0, 1, 0, 0, 1, 1], -17., 1),\n",
       "            ([1, 0, 0, 1, 0, 1, 0, 0, 1, 1], -17., 1),\n",
       "            ([1, 0, 0, 1, 0, 1, 0, 0, 1, 1], -17., 1),\n",
       "            ([1, 0, 0, 1, 0, 1, 0, 0, 1, 1], -17., 1),\n",
       "            ([1, 0, 0, 1, 0, 1, 0, 0, 1, 1], -17., 1),\n",
       "            ([1, 0, 0, 1, 0, 1, 0, 0, 1, 1], -17., 1),\n",
       "            ([1, 0, 0, 1, 0, 1, 0, 0, 1, 1], -17., 1),\n",
       "            ([1, 1, 0, 1, 0, 1, 0, 0, 1, 1], -17., 1),\n",
       "            ([1, 1, 0, 1, 0, 1, 0, 0, 1, 1], -17., 1),\n",
       "            ([1, 1, 0, 1, 0, 1, 0, 0, 1, 1], -17., 1)],\n",
       "           dtype=[('sample', 'i1', (10,)), ('energy', '<f8'), ('num_occurrences', '<i8')]), Variables([0, 1, 2, 3, 4, 5, 6, 7, 8, 9]), {'beta_range': [0.001, 10.0], 'beta_schedule_type': 'geometric', 'timing': {'preprocessing_ns': 820208, 'sampling_ns': 1804792, 'postprocessing_ns': 101750}}, 'BINARY'))"
      ]
     },
     "execution_count": 10,
     "metadata": {},
     "output_type": "execute_result"
    }
   ],
   "source": [
    "result2 = sa.sample(bqm=model.to_bqm(), raw=True)\n",
    "result2"
   ]
  }
 ],
 "metadata": {
  "kernelspec": {
   "display_name": ".venv",
   "language": "python",
   "name": "python3"
  },
  "language_info": {
   "codemirror_mode": {
    "name": "ipython",
    "version": 3
   },
   "file_extension": ".py",
   "mimetype": "text/x-python",
   "name": "python",
   "nbconvert_exporter": "python",
   "pygments_lexer": "ipython3",
   "version": "3.12.3"
  }
 },
 "nbformat": 4,
 "nbformat_minor": 2
}
